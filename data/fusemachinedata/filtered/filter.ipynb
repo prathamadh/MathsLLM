{
 "cells": [
  {
   "cell_type": "code",
   "execution_count": 4,
   "metadata": {},
   "outputs": [
    {
     "name": "stdout",
     "output_type": "stream",
     "text": [
      "['D:\\\\desktopbackup\\\\deepseekmath\\\\backup\\\\IntelliMath-Solver\\\\data\\\\fusemachinedata\\\\predicted_answers_full_part3.csv', 'D:\\\\desktopbackup\\\\deepseekmath\\\\backup\\\\IntelliMath-Solver\\\\data\\\\fusemachinedata\\\\predicted_answers_full_part4.csv', 'D:\\\\desktopbackup\\\\deepseekmath\\\\backup\\\\IntelliMath-Solver\\\\data\\\\fusemachinedata\\\\predicted_answers_full_part5.csv', 'D:\\\\desktopbackup\\\\deepseekmath\\\\backup\\\\IntelliMath-Solver\\\\data\\\\fusemachinedata\\\\predicted_answers_full_part6.csv']\n"
     ]
    }
   ],
   "source": [
    "import pandas as pd \n",
    "import numpy as np\n",
    "from glob import glob\n",
    "filenames=glob(\"D:\\\\desktopbackup\\\\deepseekmath\\\\backup\\\\IntelliMath-Solver\\\\data\\\\fusemachinedata\\\\*.csv\")\n",
    "print(filenames)"
   ]
  },
  {
   "cell_type": "code",
   "execution_count": 5,
   "metadata": {},
   "outputs": [
    {
     "name": "stdout",
     "output_type": "stream",
     "text": [
      "                                               question  \\\n",
      "0     What is the perimeter of the boundary of the r...   \n",
      "1     What is the perimeter of the boundary of the r...   \n",
      "2     Mike cycled $15$ laps in $57$ minutes. Assume ...   \n",
      "3     Mike cycled $15$ laps in $57$ minutes. Assume ...   \n",
      "4     Mike cycled $15$ laps in $57$ minutes. Assume ...   \n",
      "...                                                 ...   \n",
      "2393  Find the number of triples of nonnegative inte...   \n",
      "2394  Find the number of triples of nonnegative inte...   \n",
      "2395  Let $\\omega\\neq 1$ be a 13th root of unity. Fi...   \n",
      "2396  Let $\\omega\\neq 1$ be a 13th root of unity. Fi...   \n",
      "2397  Let $\\omega\\neq 1$ be a 13th root of unity. Fi...   \n",
      "\n",
      "                                       predicted_answer  \\\n",
      "0     Solve the following mathematical problem: What...   \n",
      "1     Solve the following mathematical problem: What...   \n",
      "2     Solve the following mathematical problem: Mike...   \n",
      "3     Solve the following mathematical problem: Mike...   \n",
      "4     Solve the following mathematical problem: Mike...   \n",
      "...                                                 ...   \n",
      "2393  Solve the following mathematical problem: Find...   \n",
      "2394  Solve the following mathematical problem: Find...   \n",
      "2395  Solve the following mathematical problem: Let ...   \n",
      "2396  Solve the following mathematical problem: Let ...   \n",
      "2397  Solve the following mathematical problem: Let ...   \n",
      "\n",
      "                                          actual_answer  \n",
      "0     [asy] import geometry; pair A = (-3, 4); pair ...  \n",
      "1     We can find the \"boundary points\" and work wit...  \n",
      "2     Mike's speed is $\\frac{15}{57}=\\frac{5}{19}$ l...  \n",
      "3     Mike runs $1$ lap in $\\frac{57}{15}=\\frac{19}{...  \n",
      "4     Mike's rate is \\[\\frac{15}{57}=\\frac{x}{27},\\]...  \n",
      "...                                                 ...  \n",
      "2393  We will use Vieta's formulas to solve this pro...  \n",
      "2394  Let's define $a=100+x$ $b=100+y$ $c=100+z$ . T...  \n",
      "2395  \\[\\prod_{k=0}^{12} \\left(2- 2\\omega^k + \\omega...  \n",
      "2396  To find $\\prod_{k=0}^{12} (2 - 2w^k + w^{2k})$...  \n",
      "2397  Denote $r_j = e^{\\frac{i 2 \\pi j}{13}}$ for $j...  \n",
      "\n",
      "[2398 rows x 3 columns]\n"
     ]
    }
   ],
   "source": [
    "import pandas as pd\n",
    "\n",
    "# Initialize an empty list to store filtered DataFrames\n",
    "df_list = []\n",
    "\n",
    "for files in filenames:\n",
    "    df = pd.read_csv(files)\n",
    "    \n",
    "    # Filter rows where 'predicted_answer' contains the string '```python'\n",
    "    filtered_df = df[df['predicted_answer'].str.contains(r'```python', na=False)]\n",
    "    \n",
    "    # Append the filtered DataFrame to the list\n",
    "    df_list.append(filtered_df)\n",
    "\n",
    "# Combine all filtered DataFrames into a single DataFrame\n",
    "combined_df = pd.concat(df_list, ignore_index=True)\n",
    "\n",
    "# Now you can do something with combined_df, like saving or further processing\n",
    "print(combined_df)\n"
   ]
  },
  {
   "cell_type": "code",
   "execution_count": 7,
   "metadata": {},
   "outputs": [],
   "source": [
    "combined_df.to_csv('D:\\\\desktopbackup\\\\deepseekmath\\\\backup\\\\IntelliMath-Solver\\\\data\\\\fusemachinedata\\\\filteredombined.csv', index=False)"
   ]
  },
  {
   "cell_type": "code",
   "execution_count": null,
   "metadata": {},
   "outputs": [],
   "source": []
  }
 ],
 "metadata": {
  "kernelspec": {
   "display_name": "myenv",
   "language": "python",
   "name": "python3"
  },
  "language_info": {
   "codemirror_mode": {
    "name": "ipython",
    "version": 3
   },
   "file_extension": ".py",
   "mimetype": "text/x-python",
   "name": "python",
   "nbconvert_exporter": "python",
   "pygments_lexer": "ipython3",
   "version": "3.6.13"
  }
 },
 "nbformat": 4,
 "nbformat_minor": 2
}
